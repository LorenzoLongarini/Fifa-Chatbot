{
 "cells": [
  {
   "cell_type": "code",
   "execution_count": 3,
   "metadata": {},
   "outputs": [],
   "source": [
    "import pandas as pd"
   ]
  },
  {
   "cell_type": "code",
   "execution_count": null,
   "metadata": {},
   "outputs": [],
   "source": [
    "df = pd.read_csv('../dataset/male_players.csv')"
   ]
  },
  {
   "cell_type": "code",
   "execution_count": null,
   "metadata": {},
   "outputs": [],
   "source": [
    "fifa_version = 22  \n",
    "column = 'fifa_version' \n",
    "white_list = ['player_id',\n",
    "'player_face_url',\n",
    "'fifa_version',\n",
    "'short_name',\n",
    "'long_name',\n",
    "'player_positions',\n",
    "'overall',\n",
    "'potential',\n",
    "'value_eur',\n",
    "'age',\n",
    "'height_cm',\n",
    "'weight_kg',\n",
    "'league_name',\n",
    "'league_id',\n",
    "'club_name',\n",
    "'club_team_id',\n",
    "'club_jersey_number',\n",
    "'nationality_name',\n",
    "'nationality_id',\n",
    "'preferred_foot',\n",
    "'pace',\n",
    "'shooting',\n",
    "'passing',\n",
    "'dribbling',\n",
    "'defending',\n",
    "'physic']"
   ]
  },
  {
   "cell_type": "code",
   "execution_count": null,
   "metadata": {},
   "outputs": [],
   "source": [
    "df = df[df[column] == fifa_version]"
   ]
  },
  {
   "cell_type": "code",
   "execution_count": null,
   "metadata": {},
   "outputs": [],
   "source": [
    "df = df.loc[:, white_list]"
   ]
  },
  {
   "cell_type": "code",
   "execution_count": null,
   "metadata": {},
   "outputs": [],
   "source": [
    "df.to_csv('../dataset/male_player_clear.csv', index=False)"
   ]
  },
  {
   "cell_type": "code",
   "execution_count": 4,
   "metadata": {},
   "outputs": [],
   "source": [
    "# if already exist, can use this to apply other changes\n",
    "\n",
    "df = pd.read_csv('../dataset/male_players_clear.csv')"
   ]
  },
  {
   "cell_type": "code",
   "execution_count": null,
   "metadata": {},
   "outputs": [],
   "source": [
    "df = df.drop_duplicates(subset=['short_name'])"
   ]
  },
  {
   "cell_type": "code",
   "execution_count": 5,
   "metadata": {},
   "outputs": [
    {
     "data": {
      "text/html": [
       "<div>\n",
       "<style scoped>\n",
       "    .dataframe tbody tr th:only-of-type {\n",
       "        vertical-align: middle;\n",
       "    }\n",
       "\n",
       "    .dataframe tbody tr th {\n",
       "        vertical-align: top;\n",
       "    }\n",
       "\n",
       "    .dataframe thead th {\n",
       "        text-align: right;\n",
       "    }\n",
       "</style>\n",
       "<table border=\"1\" class=\"dataframe\">\n",
       "  <thead>\n",
       "    <tr style=\"text-align: right;\">\n",
       "      <th></th>\n",
       "      <th>player_id</th>\n",
       "      <th>player_face_url</th>\n",
       "      <th>fifa_version</th>\n",
       "      <th>short_name</th>\n",
       "      <th>long_name</th>\n",
       "      <th>player_positions</th>\n",
       "      <th>overall</th>\n",
       "      <th>potential</th>\n",
       "      <th>value_eur</th>\n",
       "      <th>age</th>\n",
       "      <th>...</th>\n",
       "      <th>club_jersey_number</th>\n",
       "      <th>nationality_name</th>\n",
       "      <th>nationality_id</th>\n",
       "      <th>preferred_foot</th>\n",
       "      <th>pace</th>\n",
       "      <th>shooting</th>\n",
       "      <th>passing</th>\n",
       "      <th>dribbling</th>\n",
       "      <th>defending</th>\n",
       "      <th>physic</th>\n",
       "    </tr>\n",
       "  </thead>\n",
       "  <tbody>\n",
       "    <tr>\n",
       "      <th>0</th>\n",
       "      <td>158023</td>\n",
       "      <td>https://cdn.sofifa.net/players/158/023/22_120.png</td>\n",
       "      <td>22</td>\n",
       "      <td>L. Messi</td>\n",
       "      <td>Lionel Andrés Messi Cuccittini</td>\n",
       "      <td>RW, ST, CF</td>\n",
       "      <td>92</td>\n",
       "      <td>92</td>\n",
       "      <td>69500000.0</td>\n",
       "      <td>34</td>\n",
       "      <td>...</td>\n",
       "      <td>30.0</td>\n",
       "      <td>Argentina</td>\n",
       "      <td>52</td>\n",
       "      <td>Left</td>\n",
       "      <td>83.0</td>\n",
       "      <td>90.0</td>\n",
       "      <td>91.0</td>\n",
       "      <td>95.0</td>\n",
       "      <td>34.0</td>\n",
       "      <td>64.0</td>\n",
       "    </tr>\n",
       "  </tbody>\n",
       "</table>\n",
       "<p>1 rows × 26 columns</p>\n",
       "</div>"
      ],
      "text/plain": [
       "   player_id                                    player_face_url  fifa_version  \\\n",
       "0     158023  https://cdn.sofifa.net/players/158/023/22_120.png            22   \n",
       "\n",
       "  short_name                       long_name player_positions  overall  \\\n",
       "0   L. Messi  Lionel Andrés Messi Cuccittini       RW, ST, CF       92   \n",
       "\n",
       "   potential   value_eur  age  ...  club_jersey_number  nationality_name  \\\n",
       "0         92  69500000.0   34  ...                30.0         Argentina   \n",
       "\n",
       "  nationality_id  preferred_foot  pace  shooting  passing dribbling  \\\n",
       "0             52            Left  83.0      90.0     91.0      95.0   \n",
       "\n",
       "   defending physic  \n",
       "0       34.0   64.0  \n",
       "\n",
       "[1 rows x 26 columns]"
      ]
     },
     "execution_count": 5,
     "metadata": {},
     "output_type": "execute_result"
    }
   ],
   "source": [
    "df.loc[df['short_name'] == 'L. Messi']"
   ]
  },
  {
   "cell_type": "code",
   "execution_count": null,
   "metadata": {},
   "outputs": [],
   "source": [
    "# Dizionario per mappare i ruoli\n",
    "map_roles = {\n",
    "    'GK': 'Portiere',\n",
    "    'RB': 'Difensore',\n",
    "    'CB': 'Difensore',\n",
    "    'LB': 'Difensore',\n",
    "    'RWB': 'Difensore',\n",
    "    'LWB': 'Difensore',\n",
    "    'CDM': 'Centrocampista',\n",
    "    'CM': 'Centrocampista',\n",
    "    'CAM': 'Centrocampista',\n",
    "    'RM': 'Centrocampista',\n",
    "    'LM': 'Centrocampista',\n",
    "    'RW': 'Attaccante',\n",
    "    'LW': 'Attaccante',\n",
    "    'CF': 'Attaccante',\n",
    "    'ST': 'Attaccante'\n",
    "}\n",
    "\n",
    "# convert roles to semplify queries\n",
    "def convert_roles(roles):\n",
    "    roles = roles.split(', ')\n",
    "    for role in roles:\n",
    "        if role in map_roles.keys():\n",
    "            return map_roles[role]\n",
    "    return None"
   ]
  },
  {
   "cell_type": "code",
   "execution_count": null,
   "metadata": {},
   "outputs": [],
   "source": [
    "\n",
    "df['player_positions'] = df['player_positions'].apply(convert_roles)\n"
   ]
  },
  {
   "cell_type": "code",
   "execution_count": 6,
   "metadata": {},
   "outputs": [],
   "source": [
    "df['preferred_foot'] = df['preferred_foot'].replace({'Right': 'Destro', 'Left': 'Sinistro'})"
   ]
  },
  {
   "cell_type": "code",
   "execution_count": 8,
   "metadata": {},
   "outputs": [],
   "source": [
    "df.to_csv('../dataset/male_players_clear.csv', index=False)"
   ]
  }
 ],
 "metadata": {
  "kernelspec": {
   "display_name": "venv",
   "language": "python",
   "name": "python3"
  },
  "language_info": {
   "codemirror_mode": {
    "name": "ipython",
    "version": 3
   },
   "file_extension": ".py",
   "mimetype": "text/x-python",
   "name": "python",
   "nbconvert_exporter": "python",
   "pygments_lexer": "ipython3",
   "version": "3.9.12"
  }
 },
 "nbformat": 4,
 "nbformat_minor": 2
}
