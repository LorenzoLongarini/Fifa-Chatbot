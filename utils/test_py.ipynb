{
 "cells": [
  {
   "cell_type": "code",
   "execution_count": null,
   "metadata": {},
   "outputs": [],
   "source": [
    "import pandas as pd\n",
    "from fuzzywuzzy import fuzz, process\n",
    "\n",
    "PATH = '../dataset/male_players_clear.csv'\n",
    "df = pd.read_csv(PATH)\n",
    "columns= ['player_id',\n",
    "'player_face_url',\n",
    "'fifa_version',\n",
    "'short_name',\n",
    "'long_name',\n",
    "'player_positions',\n",
    "'overall',\n",
    "'potential',\n",
    "'value_eur',\n",
    "'age',\n",
    "'height_cm',\n",
    "'weight_kg',\n",
    "'league_name',\n",
    "'league_id',\n",
    "'club_name',\n",
    "'club_team_id',\n",
    "'club_jersey_number',\n",
    "'nationality_name',\n",
    "'nationality_id',\n",
    "'preferred_foot',\n",
    "'pace',\n",
    "'shooting',\n",
    "'passing',\n",
    "'dribbling',\n",
    "'defending',\n",
    "'physic']"
   ]
  },
  {
   "cell_type": "code",
   "execution_count": null,
   "metadata": {},
   "outputs": [],
   "source": [
    "# Dizionario per mappare i ruoli\n",
    "mappatura_ruoli = {\n",
    "    'GK': 'Portiere',\n",
    "    'RB': 'Difensore',\n",
    "    'CB': 'Difensore',\n",
    "    'LB': 'Difensore',\n",
    "    'RWB': 'Difensore',\n",
    "    'LWB': 'Difensore',\n",
    "    'CDM': 'Centrocampista',\n",
    "    'CM': 'Centrocampista',\n",
    "    'CAM': 'Centrocampista',\n",
    "    'RM': 'Centrocampista',\n",
    "    'LM': 'Centrocampista',\n",
    "    'RW': 'Attaccante',\n",
    "    'LW': 'Attaccante',\n",
    "    'CF': 'Attaccante',\n",
    "    'ST': 'Attaccante'\n",
    "}\n",
    "\n",
    "# Funzione per convertire i ruoli\n",
    "def converti_ruoli(ruoli):\n",
    "    ruoli = ruoli.split(', ')\n",
    "    for ruolo in ruoli:\n",
    "        if ruolo in mappatura_ruoli.keys():\n",
    "            return mappatura_ruoli[ruolo]\n",
    "    return None\n",
    "\n",
    "# Applica la conversione dei ruoli\n",
    "df['player_positions'] = df['player_positions'].apply(converti_ruoli)\n",
    "df.to_csv('../dataset/male_players_clear.csv', index=False)\n",
    "\n",
    "print(df['player_positions'].unique())"
   ]
  },
  {
   "cell_type": "code",
   "execution_count": null,
   "metadata": {},
   "outputs": [],
   "source": [
    "def find_words(string, df, search = 'long_name'):\n",
    "    words_2find = string.split()\n",
    "\n",
    "    result = df[df[search].apply(lambda x: all(str(x).lower().startswith(str(word.lower())) for word in words_2find))]\n",
    "    for word in result:\n",
    "        print(word)\n",
    "    result = result.sort_values(by='overall', ascending=False)\n",
    "    # result = result.head(5)\n",
    "    return result"
   ]
  },
  {
   "cell_type": "code",
   "execution_count": null,
   "metadata": {},
   "outputs": [],
   "source": [
    "def find_team(input):\n",
    "    matches = process.extract(input, df['long_name'].unique(), limit= 5)\n",
    "    # best_match = matches[0]\n",
    "\n",
    "    # if best_match[1] >= 80:\n",
    "    #     return best_match[0]\n",
    "    # else:\n",
    "    #     print('Squadra non trovata')\n",
    "    return matches"
   ]
  },
  {
   "cell_type": "code",
   "execution_count": 1,
   "metadata": {},
   "outputs": [
    {
     "name": "stderr",
     "output_type": "stream",
     "text": [
      "c:\\Users\\Lorenzo\\Desktop\\Fifa-Chatbot\\venv\\lib\\site-packages\\fuzzywuzzy\\fuzz.py:11: UserWarning: Using slow pure-python SequenceMatcher. Install python-Levenshtein to remove this warning\n",
      "  warnings.warn('Using slow pure-python SequenceMatcher. Install python-Levenshtein to remove this warning')\n"
     ]
    }
   ],
   "source": [
    "import pandas as pd\n",
    "from fuzzywuzzy import fuzz, process"
   ]
  },
  {
   "cell_type": "code",
   "execution_count": 1,
   "metadata": {},
   "outputs": [],
   "source": [
    "char = [\n",
    "    \"overall\",\n",
    "    \"potential\"\n",
    "]"
   ]
  },
  {
   "cell_type": "code",
   "execution_count": 4,
   "metadata": {},
   "outputs": [
    {
     "name": "stdout",
     "output_type": "stream",
     "text": [
      "potential\n"
     ]
    }
   ],
   "source": [
    "import random\n",
    "print(random.choice(char))"
   ]
  },
  {
   "cell_type": "code",
   "execution_count": 15,
   "metadata": {},
   "outputs": [],
   "source": [
    "input = \"poeal\"\n",
    "matches = process.extract(str(input), char, limit= 1)"
   ]
  },
  {
   "cell_type": "code",
   "execution_count": 20,
   "metadata": {},
   "outputs": [
    {
     "name": "stdout",
     "output_type": "stream",
     "text": [
      "potential\n"
     ]
    }
   ],
   "source": [
    "print(matches[0][0])"
   ]
  },
  {
   "cell_type": "code",
   "execution_count": 2,
   "metadata": {},
   "outputs": [
    {
     "name": "stdout",
     "output_type": "stream",
     "text": [
      "<class 'str'>\n"
     ]
    }
   ],
   "source": [
    "age = 25W\n",
    "age = str(age)\n",
    "print(type(age))"
   ]
  }
 ],
 "metadata": {
  "kernelspec": {
   "display_name": "venv",
   "language": "python",
   "name": "python3"
  },
  "language_info": {
   "codemirror_mode": {
    "name": "ipython",
    "version": 3
   },
   "file_extension": ".py",
   "mimetype": "text/x-python",
   "name": "python",
   "nbconvert_exporter": "python",
   "pygments_lexer": "ipython3",
   "version": "3.9.12"
  }
 },
 "nbformat": 4,
 "nbformat_minor": 2
}
