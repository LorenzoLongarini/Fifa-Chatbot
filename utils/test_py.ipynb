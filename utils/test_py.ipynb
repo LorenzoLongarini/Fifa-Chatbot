{
 "cells": [
  {
   "cell_type": "code",
   "execution_count": 2,
   "metadata": {},
   "outputs": [],
   "source": [
    "import pandas as pd\n",
    "\n",
    "PATH = '../dataset/male_players_clear.csv'\n",
    "df = pd.read_csv(PATH)\n",
    "columns= ['player_id',\n",
    "'player_face_url',\n",
    "'fifa_version',\n",
    "'short_name',\n",
    "'long_name',\n",
    "'player_positions',\n",
    "'overall',\n",
    "'potential',\n",
    "'value_eur',\n",
    "'age',\n",
    "'height_cm',\n",
    "'weight_kg',\n",
    "'league_name',\n",
    "'league_id',\n",
    "'club_name',\n",
    "'club_team_id',\n",
    "'club_jersey_number',\n",
    "'nationality_name',\n",
    "'nationality_id',\n",
    "'preferred_foot',\n",
    "'pace',\n",
    "'shooting',\n",
    "'passing',\n",
    "'dribbling',\n",
    "'defending',\n",
    "'physic']"
   ]
  },
  {
   "cell_type": "code",
   "execution_count": 41,
   "metadata": {},
   "outputs": [
    {
     "name": "stdout",
     "output_type": "stream",
     "text": [
      "       player_id                                    player_face_url  \\\n",
      "0         158023  https://cdn.sofifa.net/players/158/023/22_120.png   \n",
      "2249      232244  https://cdn.sofifa.net/players/232/244/22_120.png   \n",
      "4514      201041  https://cdn.sofifa.net/players/201/041/22_120.png   \n",
      "6515      223150  https://cdn.sofifa.net/players/223/150/22_120.png   \n",
      "11998     236867  https://cdn.sofifa.net/players/236/867/22_120.png   \n",
      "20635     243482  https://cdn.sofifa.net/players/243/482/22_120.png   \n",
      "\n",
      "       fifa_version    short_name                       long_name  \\\n",
      "0                22      L. Messi  Lionel Andrés Messi Cuccittini   \n",
      "2249             22  S. Ascacíbar       Santiago Lionel Ascacíbar   \n",
      "4514             22     L. Carole             Lionel Jules Carole   \n",
      "6515             22      L. Mpasi               Lionel Mpasi-Nzau   \n",
      "11998            22       L. Dias               Lucas Lionel Dias   \n",
      "20635            22      F. Godoy     Franco Lionel Godoy Milessi   \n",
      "\n",
      "      player_positions  overall  potential   value_eur  age  ...  \\\n",
      "0           RW, ST, CF       92         92  69500000.0   34  ...   \n",
      "2249           CDM, CM       74         79   6000000.0   24  ...   \n",
      "4514           LB, LWB       70         70   1400000.0   30  ...   \n",
      "6515                GK       68         71   1200000.0   26  ...   \n",
      "11998               GK       63         72    925000.0   22  ...   \n",
      "20635           CB, LB       61         72    700000.0   21  ...   \n",
      "\n",
      "       club_jersey_number  nationality_name nationality_id  preferred_foot  \\\n",
      "0                    30.0         Argentina             52            Left   \n",
      "2249                 18.0         Argentina             52           Right   \n",
      "4514                 21.0            France             18            Left   \n",
      "6515                 16.0          Congo DR            110           Right   \n",
      "11998                16.0            France             18           Right   \n",
      "20635                36.0         Argentina             52            Left   \n",
      "\n",
      "       pace  shooting  passing dribbling  defending physic  \n",
      "0      83.0      90.0     91.0      95.0       34.0   64.0  \n",
      "2249   69.0      47.0     61.0      69.0       75.0   72.0  \n",
      "4514   73.0      42.0     63.0      67.0       69.0   74.0  \n",
      "6515    NaN       NaN      NaN       NaN        NaN    NaN  \n",
      "11998   NaN       NaN      NaN       NaN        NaN    NaN  \n",
      "20635  54.0      29.0     44.0      49.0       59.0   66.0  \n",
      "\n",
      "[6 rows x 26 columns]\n"
     ]
    }
   ],
   "source": [
    "string = 'Lionel'\n",
    "\n",
    "# result = df[df['long_name'].str.contains(string, regex=True)]\n",
    "# print(result)\n",
    "# if (result != -1):\n",
    "#     print(\"presente\")\n",
    "\n",
    "parole_da_cercare = string.split()\n",
    "\n",
    "# Verifica se ogni parola è presente in ogni riga della colonna 'long_name'\n",
    "result = df[df['long_name'].apply(lambda x: all(parola.lower() in x.lower() for parola in parole_da_cercare))]\n",
    "\n",
    "print(result)"
   ]
  }
 ],
 "metadata": {
  "kernelspec": {
   "display_name": "venv",
   "language": "python",
   "name": "python3"
  },
  "language_info": {
   "codemirror_mode": {
    "name": "ipython",
    "version": 3
   },
   "file_extension": ".py",
   "mimetype": "text/x-python",
   "name": "python",
   "nbconvert_exporter": "python",
   "pygments_lexer": "ipython3",
   "version": "3.10.11"
  }
 },
 "nbformat": 4,
 "nbformat_minor": 2
}
